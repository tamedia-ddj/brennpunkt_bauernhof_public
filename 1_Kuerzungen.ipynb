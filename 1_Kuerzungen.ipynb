{
 "cells": [
  {
   "cell_type": "markdown",
   "metadata": {},
   "source": [
    "![Logo Brennpunkt Bauernhof](files/Bauernhof_Logo.jpg \"Brennpunkt Bauernhof\")\n",
    "\n",
    "# Brennpunkt Bauernhof\n",
    "## Analyse des Datenbestandes zu den Direktzahlungen 2014 bis 2017\n",
    "\n",
    "Ein Rechercheteam von Tamedia veröffentlich diese Woche eine Serie von Artikeln zur Landwirtschaft. Es wurden dazu Daten über Direktzahlung sowie über 600 Strafurteile gegen Landwirte ausgewertet.\n",
    "\n",
    "In den folgenden Notebooks sind die relevanten Ausschnitte der Analyse dokumentiert. Der beiliegende Datensatz wurde zur Wahrung des Datenschutzes gekürzt und verfälscht (Gemeinde, Kanton und Zahlenwerte wurde willkürlich vertauscht).\n",
    "\n",
    "\n",
    "\n",
    "\n",
    "0. [Datenvorbereitung](https://github.com/tamedia-ddj/brennpunkt_bauernhof_public/blob/master/0_Data_Preparation.ipynb)\n",
    "1. **Kürzungen**\n",
    "2. ...\n",
    "\n",
    "\n",
    "Quelle des Datensatzes: BLW"
   ]
  },
  {
   "cell_type": "markdown",
   "metadata": {},
   "source": [
    "---"
   ]
  },
  {
   "cell_type": "markdown",
   "metadata": {},
   "source": [
    "### Notebook 2 - Kürzungen\n",
    "#### Berechnungen zu Artikeln"
   ]
  },
  {
   "cell_type": "markdown",
   "metadata": {},
   "source": [
    "---"
   ]
  },
  {
   "cell_type": "markdown",
   "metadata": {},
   "source": [
    "#### Load Packages"
   ]
  },
  {
   "cell_type": "code",
   "execution_count": 2,
   "metadata": {},
   "outputs": [],
   "source": [
    "# Import necessary packages\n",
    "import pandas as pd\n",
    "import numpy as np\n",
    "import matplotlib.pyplot as plt\n",
    "import matplotlib.ticker as tkr"
   ]
  },
  {
   "cell_type": "markdown",
   "metadata": {},
   "source": [
    "#### Import data"
   ]
  },
  {
   "cell_type": "code",
   "execution_count": 23,
   "metadata": {},
   "outputs": [],
   "source": [
    "# read pickle-file\n",
    "data = pd.read_pickle(\"files/data.pkl\")\n",
    "# import fixed list of municipalities and their corresponding cantons\n",
    "clean_gde = pd.read_pickle(\"files/gemeinden_bereinigt.pkl\")"
   ]
  },
  {
   "cell_type": "markdown",
   "metadata": {},
   "source": [
    "---"
   ]
  },
  {
   "cell_type": "markdown",
   "metadata": {},
   "source": [
    "#### Calculate key facts"
   ]
  },
  {
   "cell_type": "markdown",
   "metadata": {},
   "source": [
    "##### sum of all cutbacks in 2017"
   ]
  },
  {
   "cell_type": "code",
   "execution_count": 4,
   "metadata": {},
   "outputs": [
    {
     "name": "stdout",
     "output_type": "stream",
     "text": [
      "8114199.1\n"
     ]
    }
   ],
   "source": [
    "# sum of all cutbacks in 2017\n",
    "print(data[data.JAHR == 2017].KUERZUNGEN.sum())"
   ]
  },
  {
   "cell_type": "markdown",
   "metadata": {},
   "source": [
    "##### number of farms overall and with cutbacks in 2017"
   ]
  },
  {
   "cell_type": "code",
   "execution_count": 5,
   "metadata": {},
   "outputs": [
    {
     "name": "stdout",
     "output_type": "stream",
     "text": [
      "Alle Höfe: 52192\n",
      "Mit Kürzungen: 7398\n",
      "Jeder 7. Hof\n"
     ]
    }
   ],
   "source": [
    "print(\"Alle Höfe: {}\".format(len(data[data.JAHR == 2017].BETRIEBSNUMMER_ZUFALL.unique())))\n",
    "print(\"Mit Kürzungen: {}\".format(len(data[(data.JAHR == 2017) & (data.KUERZUNGEN > 0)].BETRIEBSNUMMER_ZUFALL.unique())))\n",
    "print(\"Jeder {0:.0f}. Hof\" .format(52192/7398))"
   ]
  },
  {
   "cell_type": "markdown",
   "metadata": {},
   "source": [
    "##### number of farms which received subsidies in the full period"
   ]
  },
  {
   "cell_type": "code",
   "execution_count": 6,
   "metadata": {},
   "outputs": [
    {
     "name": "stdout",
     "output_type": "stream",
     "text": [
      "Im Zeitraum 2014 - 2017 erhielten insgesamt 62003 Betriebe Gelder vom Bund.\n"
     ]
    }
   ],
   "source": [
    "print(\"Im Zeitraum 2014 - 2017 erhielten insgesamt {} Betriebe Gelder vom Bund.\".format(len(data.BETRIEBSNUMMER_ZUFALL.unique())))"
   ]
  },
  {
   "cell_type": "markdown",
   "metadata": {},
   "source": [
    "##### number of farms with cutbacks in the full period\n"
   ]
  },
  {
   "cell_type": "code",
   "execution_count": 13,
   "metadata": {},
   "outputs": [
    {
     "name": "stdout",
     "output_type": "stream",
     "text": [
      "18313 Betrieben wurden Direktzahlungen gekürzt.\n"
     ]
    }
   ],
   "source": [
    "print(\"{} Betrieben wurden Direktzahlungen gekürzt.\".format(len(data[data.KUERZUNGEN > 0].BETRIEBSNUMMER_ZUFALL.unique())))"
   ]
  },
  {
   "cell_type": "markdown",
   "metadata": {},
   "source": [
    "##### farms with multiple cutbacks"
   ]
  },
  {
   "cell_type": "code",
   "execution_count": 14,
   "metadata": {},
   "outputs": [],
   "source": [
    "anzahl_kuerzungen = pd.DataFrame(data[(data.KUERZUNGEN > 0)].BETRIEBSNUMMER_ZUFALL.value_counts()).reset_index()\n",
    "anzahl_kuerzungen.columns = [\"BETRIEBSNUMMER_ZUFALL\", \"Anzahl_Kuerzungen\"]"
   ]
  },
  {
   "cell_type": "code",
   "execution_count": 43,
   "metadata": {},
   "outputs": [
    {
     "name": "stdout",
     "output_type": "stream",
     "text": [
      "Anzahl Betriebe mit mehreren Kürzungen: 4614\n"
     ]
    }
   ],
   "source": [
    "### >1\n",
    "print(\"Anzahl Betriebe mit mehreren Kürzungen: {}\".format(len(anzahl_kuerzungen[anzahl_kuerzungen.Anzahl_Kuerzungen > 1])))"
   ]
  },
  {
   "cell_type": "code",
   "execution_count": 20,
   "metadata": {
    "scrolled": true
   },
   "outputs": [
    {
     "data": {
      "text/html": [
       "<div>\n",
       "<style scoped>\n",
       "    .dataframe tbody tr th:only-of-type {\n",
       "        vertical-align: middle;\n",
       "    }\n",
       "\n",
       "    .dataframe tbody tr th {\n",
       "        vertical-align: top;\n",
       "    }\n",
       "\n",
       "    .dataframe thead th {\n",
       "        text-align: right;\n",
       "    }\n",
       "</style>\n",
       "<table border=\"1\" class=\"dataframe\">\n",
       "  <thead>\n",
       "    <tr style=\"text-align: right;\">\n",
       "      <th></th>\n",
       "      <th>n_cutbacks</th>\n",
       "      <th>counts</th>\n",
       "    </tr>\n",
       "  </thead>\n",
       "  <tbody>\n",
       "    <tr>\n",
       "      <th>0</th>\n",
       "      <td>1</td>\n",
       "      <td>13699</td>\n",
       "    </tr>\n",
       "    <tr>\n",
       "      <th>1</th>\n",
       "      <td>2</td>\n",
       "      <td>3550</td>\n",
       "    </tr>\n",
       "    <tr>\n",
       "      <th>2</th>\n",
       "      <td>3</td>\n",
       "      <td>869</td>\n",
       "    </tr>\n",
       "    <tr>\n",
       "      <th>3</th>\n",
       "      <td>4</td>\n",
       "      <td>195</td>\n",
       "    </tr>\n",
       "  </tbody>\n",
       "</table>\n",
       "</div>"
      ],
      "text/plain": [
       "   n_cutbacks  counts\n",
       "0           1   13699\n",
       "1           2    3550\n",
       "2           3     869\n",
       "3           4     195"
      ]
     },
     "execution_count": 20,
     "metadata": {},
     "output_type": "execute_result"
    }
   ],
   "source": [
    "### count by number of cutbacks\n",
    "anzahl_kuerzungen.Anzahl_Kuerzungen.value_counts().rename_axis('n_cutbacks').reset_index(name='counts')"
   ]
  },
  {
   "cell_type": "markdown",
   "metadata": {},
   "source": [
    "---"
   ]
  },
  {
   "cell_type": "markdown",
   "metadata": {},
   "source": [
    "#### cutbacks by municipality"
   ]
  },
  {
   "cell_type": "code",
   "execution_count": 24,
   "metadata": {},
   "outputs": [],
   "source": [
    "### get number of farm with cutbacks by municipality\n",
    "cutbacks_gde = data[(data.KUERZUNGEN > 0)][[\"GDE_GEMEINDE_NR\", \"KUERZUNGEN\"]].groupby([\"GDE_GEMEINDE_NR\"]).count().reset_index()\n"
   ]
  },
  {
   "cell_type": "code",
   "execution_count": 26,
   "metadata": {},
   "outputs": [],
   "source": [
    "### collect matching name and canton\n",
    "cutbacks_gde = pd.merge(clean_gde, cutbacks_gde, on=\"GDE_GEMEINDE_NR\", how=\"left\")"
   ]
  },
  {
   "cell_type": "code",
   "execution_count": 27,
   "metadata": {},
   "outputs": [],
   "source": [
    "### replace NAs\n",
    "cutbacks_gde.KUERZUNGEN.fillna(0, inplace=True)"
   ]
  },
  {
   "cell_type": "code",
   "execution_count": 28,
   "metadata": {},
   "outputs": [],
   "source": [
    "### function to get total number of farms by GDE_GEMEINDE_NR\n",
    "def get_total_betriebe(gde_nr):\n",
    "    return len(data[data.GDE_GEMEINDE_NR == gde_nr].BETRIEBSNUMMER_ZUFALL.unique())"
   ]
  },
  {
   "cell_type": "code",
   "execution_count": 29,
   "metadata": {},
   "outputs": [],
   "source": [
    "### apply get_total_betriebe()\n",
    "cutbacks_gde[\"BETRIEBE_TOTAL\"] = cutbacks_gde.GDE_GEMEINDE_NR.apply(get_total_betriebe)"
   ]
  },
  {
   "cell_type": "code",
   "execution_count": 30,
   "metadata": {},
   "outputs": [],
   "source": [
    "### calculate percentage of farms with cutbacks\n",
    "cutbacks_gde[\"KUERZUNGEN_ANTEIL\"] = cutbacks_gde.KUERZUNGEN / cutbacks_gde.BETRIEBE_TOTAL"
   ]
  },
  {
   "cell_type": "code",
   "execution_count": 31,
   "metadata": {},
   "outputs": [],
   "source": [
    "### function to get average cutback by GDE_GEMEINDE_NR\n",
    "def get_avg_kuerzung(gde_nr):\n",
    "    return data[data.GDE_GEMEINDE_NR == gde_nr].KUERZUNGEN.mean()"
   ]
  },
  {
   "cell_type": "code",
   "execution_count": 32,
   "metadata": {},
   "outputs": [],
   "source": [
    "### apply get_avg_kuerzung()\n",
    "cutbacks_gde[\"KUERZUNGEN_BETRAG_AVG\"] = cutbacks_gde.GDE_GEMEINDE_NR.apply(get_avg_kuerzung)"
   ]
  },
  {
   "cell_type": "code",
   "execution_count": 33,
   "metadata": {},
   "outputs": [],
   "source": [
    "### function to clean municipality name / remove canton in parentheses\n",
    "import re\n",
    "def remove_kte(gde):\n",
    "    return re.sub(r\" ?\\([^)]+\\)\", \"\", gde)"
   ]
  },
  {
   "cell_type": "code",
   "execution_count": 35,
   "metadata": {},
   "outputs": [],
   "source": [
    "### apply remove_kte()\n",
    "cutbacks_gde[\"GDE_CLEAN\"] = cutbacks_gde.GDE_NAME.apply(remove_kte)"
   ]
  },
  {
   "cell_type": "code",
   "execution_count": 41,
   "metadata": {},
   "outputs": [
    {
     "data": {
      "text/html": [
       "<div>\n",
       "<style scoped>\n",
       "    .dataframe tbody tr th:only-of-type {\n",
       "        vertical-align: middle;\n",
       "    }\n",
       "\n",
       "    .dataframe tbody tr th {\n",
       "        vertical-align: top;\n",
       "    }\n",
       "\n",
       "    .dataframe thead th {\n",
       "        text-align: right;\n",
       "    }\n",
       "</style>\n",
       "<table border=\"1\" class=\"dataframe\">\n",
       "  <thead>\n",
       "    <tr style=\"text-align: right;\">\n",
       "      <th></th>\n",
       "      <th>GDE_GEMEINDE_NR</th>\n",
       "      <th>GDE_NAME</th>\n",
       "      <th>ABJ_KANTON</th>\n",
       "      <th>KUERZUNGEN</th>\n",
       "      <th>BETRIEBE_TOTAL</th>\n",
       "      <th>KUERZUNGEN_ANTEIL</th>\n",
       "      <th>KUERZUNGEN_BETRAG_AVG</th>\n",
       "      <th>GDE_CLEAN</th>\n",
       "    </tr>\n",
       "  </thead>\n",
       "  <tbody>\n",
       "    <tr>\n",
       "      <th>452</th>\n",
       "      <td>1010</td>\n",
       "      <td>Escholzmatt-Marbach</td>\n",
       "      <td>LU</td>\n",
       "      <td>83.0</td>\n",
       "      <td>330</td>\n",
       "      <td>0.251515</td>\n",
       "      <td>41.405611</td>\n",
       "      <td>Escholzmatt-Marbach</td>\n",
       "    </tr>\n",
       "  </tbody>\n",
       "</table>\n",
       "</div>"
      ],
      "text/plain": [
       "     GDE_GEMEINDE_NR             GDE_NAME ABJ_KANTON  KUERZUNGEN  \\\n",
       "452             1010  Escholzmatt-Marbach         LU        83.0   \n",
       "\n",
       "     BETRIEBE_TOTAL  KUERZUNGEN_ANTEIL  KUERZUNGEN_BETRAG_AVG  \\\n",
       "452             330           0.251515              41.405611   \n",
       "\n",
       "               GDE_CLEAN  \n",
       "452  Escholzmatt-Marbach  "
      ]
     },
     "execution_count": 41,
     "metadata": {},
     "output_type": "execute_result"
    }
   ],
   "source": [
    "### look at sample row\n",
    "cutbacks_gde[cutbacks_gde.index == 452]"
   ]
  },
  {
   "cell_type": "code",
   "execution_count": 36,
   "metadata": {},
   "outputs": [],
   "source": [
    "### Export relevant data to csv for visualization\n",
    "cutbacks_gde[[\"KUERZUNGEN\", \"GDE_NAME\", \"BETRIEBE_TOTAL\", \"KUERZUNGEN_BETRAG_AVG\", \"ABJ_KANTON\", \"GDE_CLEAN\"]].to_csv(\"data_output/n2_final.csv\")\n"
   ]
  },
  {
   "cell_type": "markdown",
   "metadata": {},
   "source": [
    "---"
   ]
  },
  {
   "cell_type": "markdown",
   "metadata": {},
   "source": [
    "#### localize farms with multiple cutbacks and prepare data for visualization"
   ]
  },
  {
   "cell_type": "code",
   "execution_count": 44,
   "metadata": {
    "scrolled": true
   },
   "outputs": [],
   "source": [
    "### mark farms with more than 2 cutbacks\n",
    "anzahl_kuerzungen[\"multiple_cutbacks\"] = 0\n",
    "anzahl_kuerzungen.loc[anzahl_kuerzungen.Anzahl_Kuerzungen == 3, \"multiple_cutbacks\"] = 1  \n",
    "anzahl_kuerzungen.loc[anzahl_kuerzungen.Anzahl_Kuerzungen == 4, \"multiple_cutbacks\"] = 1 "
   ]
  },
  {
   "cell_type": "code",
   "execution_count": 45,
   "metadata": {},
   "outputs": [],
   "source": [
    "### assign municipality\n",
    "cutbacks = pd.merge(data[[\"GDE_GEMEINDE_NR\", \"BETRIEBSNUMMER_ZUFALL\"]].drop_duplicates(), anzahl_kuerzungen, how=\"left\", on=\"BETRIEBSNUMMER_ZUFALL\")"
   ]
  },
  {
   "cell_type": "code",
   "execution_count": 47,
   "metadata": {},
   "outputs": [],
   "source": [
    "### replace NAs\n",
    "cutbacks.loc[np.isnan(cutbacks.multiple_cutbacks), \"multiple_cutbacks\"] = 0 "
   ]
  },
  {
   "cell_type": "code",
   "execution_count": 48,
   "metadata": {},
   "outputs": [],
   "source": [
    "### collect name and canton\n",
    "cutbacks = pd.merge(clean_gde, cutbacks, on=\"GDE_GEMEINDE_NR\", how=\"left\")"
   ]
  },
  {
   "cell_type": "code",
   "execution_count": 49,
   "metadata": {},
   "outputs": [],
   "source": [
    "### apply remove_kte()\n",
    "cutbacks[\"GDE_CLEAN\"] = cutbacks.GDE_NAME.apply(remove_kte)"
   ]
  },
  {
   "cell_type": "code",
   "execution_count": 50,
   "metadata": {},
   "outputs": [],
   "source": [
    "### subset data\n",
    "cutbacks = cutbacks[cutbacks.multiple_cutbacks != 0]"
   ]
  },
  {
   "cell_type": "code",
   "execution_count": 51,
   "metadata": {},
   "outputs": [],
   "source": [
    "### save number of farms with multiple cutbacks by municipality\n",
    "cutbacks[[\"GDE_GEMEINDE_NR\", \"GDE_NAME\", \"GDE_CLEAN\", \"ABJ_KANTON\", \"multiple_cutbacks\"]].groupby([\"GDE_GEMEINDE_NR\", \"GDE_NAME\", \"GDE_CLEAN\", \"ABJ_KANTON\"]).sum().reset_index().to_csv(\"data_output/n3_final.csv\")\n"
   ]
  },
  {
   "cell_type": "code",
   "execution_count": null,
   "metadata": {},
   "outputs": [],
   "source": []
  }
 ],
 "metadata": {
  "kernelspec": {
   "display_name": "Python 3",
   "language": "python",
   "name": "python3"
  },
  "language_info": {
   "codemirror_mode": {
    "name": "ipython",
    "version": 3
   },
   "file_extension": ".py",
   "mimetype": "text/x-python",
   "name": "python",
   "nbconvert_exporter": "python",
   "pygments_lexer": "ipython3",
   "version": "3.7.2"
  }
 },
 "nbformat": 4,
 "nbformat_minor": 2
}
