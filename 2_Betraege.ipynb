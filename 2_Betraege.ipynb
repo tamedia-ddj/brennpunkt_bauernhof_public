{
 "cells": [
  {
   "cell_type": "markdown",
   "metadata": {},
   "source": [
    "<img src=\"https://raw.githubusercontent.com/tamedia-ddj/brennpunkt_bauernhof_public/master/files/Bauernhof_Logo.jpg\">\n",
    "\n",
    "# Brennpunkt Bauernhof\n",
    "## Analyse des Datenbestandes zu den Direktzahlungen 2014 bis 2017\n",
    "\n",
    "Ein Rechercheteam von Tamedia veröffentlich diese Woche eine Serie von Artikeln zur Landwirtschaft. Es wurden dazu Daten über Direktzahlung sowie über 600 Strafurteile gegen Landwirte ausgewertet.\n",
    "\n",
    "In den folgenden Notebooks sind die relevanten Ausschnitte der Analyse dokumentiert. Der beiliegende Datensatz wurde zur Wahrung des Datenschutzes gekürzt und verändert (Gemeinde, Kantone und Zahlenwerte wurden willkürlich vertauscht).\n",
    "\n",
    "\n",
    "\n",
    "\n",
    "1. [Datenvorbereitung](https://github.com/tamedia-ddj/brennpunkt_bauernhof_public/blob/master/0_Data_Preparation.ipynb)\n",
    "2. Kürzungen\n",
    "    * Methodik: [Github](https://github.com/tamedia-ddj/brennpunkt_bauernhof_public/blob/master/1_Kuerzungen.ipynb)\n",
    "    * Artikel:\n",
    "        * [Skandalöse Zustände auf Schweizer Bauernhöfen](https://www.tagesanzeiger.ch/schweiz/brennpunkt-bauernhof/skandaloese-zustaende-auf-schweizer-bauernhoefen/story/17687029)\n",
    "        * [Sogar Tierquäler erhalten Subventionen](https://www.tagesanzeiger.ch/schweiz/brennpunkt-bauernhof/bauern-erhalten-subventionen-trotz-leidender-tiere/story/19918846)\n",
    "3. Kontrollen\n",
    "\t* Artikel:\n",
    "\t\t* [Zu wenig Kontrollen: Tierquäler bleiben unentdeckt](https://www.tagesanzeiger.ch/schweiz/brennpunkt-bauernhof/zu-wenig-geld-fuer-tierkontrollen/story/12827795)\n",
    "        * [Der Bauern-Sherlock](https://www.tagesanzeiger.ch/schweiz/brennpunkt-bauernhof/wie-ein-ermittler-mit-videobeweisen-landwirte-ueberfuehrt/story/16595684)\n",
    "4. **Direktzahlungsbeträge**\n",
    "    * Artikel: [«Das war für uns wie ein Lottosechser»](https://www.tagesanzeiger.ch/schweiz/brennpunkt-bauernhof/welche-bauern-am-meisten-erhalten/story/25753875)\n",
    "5. Interview\n",
    "\t* Artikel: [«Beim Tierschutz gibt es keine Schmerzgrenze»](https://www.tagesanzeiger.ch/schweiz/brennpunkt-bauernhof/beim-tierschutz-gibt-es-keine-schmerzgrenze/story/20647149)\n",
    "6. Interaktiv\n",
    "    * Artikel: [Ein Leben lang trächtig und am Ende eine Wurst](https://interaktiv.tagesanzeiger.ch/2019/leben-einer-kuh/)\n",
    "7. Tiertransporte\n",
    "    * Artikel: [Die letzte Reise von Schwein Fanny](https://www.tagesanzeiger.ch/schweiz/brennpunkt-bauernhof/die-letzte-reise-von-schwein-fanny/story/14773958)\n",
    "\n",
    "\n",
    "\n",
    "Quelle des Datensatzes: BLW"
   ]
  },
  {
   "cell_type": "markdown",
   "metadata": {},
   "source": [
    "---"
   ]
  },
  {
   "cell_type": "markdown",
   "metadata": {},
   "source": [
    "### Notebook 3 - DZ-Beträge\n",
    "#### Berechnungen zu Artikeln"
   ]
  },
  {
   "cell_type": "markdown",
   "metadata": {},
   "source": [
    "---"
   ]
  },
  {
   "cell_type": "markdown",
   "metadata": {},
   "source": [
    "#### Load Packages"
   ]
  },
  {
   "cell_type": "code",
   "execution_count": 3,
   "metadata": {},
   "outputs": [],
   "source": [
    "# Import necessary packages\n",
    "import pandas as pd\n",
    "import numpy as np"
   ]
  },
  {
   "cell_type": "markdown",
   "metadata": {},
   "source": [
    "#### Import data"
   ]
  },
  {
   "cell_type": "code",
   "execution_count": 4,
   "metadata": {},
   "outputs": [],
   "source": [
    "# read pickle-file\n",
    "data = pd.read_pickle(\"files/data_mod.pkl\")\n",
    "# import fixed list of municipalities and their corresponding cantons\n",
    "clean_gde = pd.read_pickle(\"files/gemeinden_bereinigt.pkl\")"
   ]
  },
  {
   "cell_type": "markdown",
   "metadata": {},
   "source": [
    "---"
   ]
  },
  {
   "cell_type": "markdown",
   "metadata": {},
   "source": [
    "#### initial jobs"
   ]
  },
  {
   "cell_type": "markdown",
   "metadata": {},
   "source": [
    "##### create function"
   ]
  },
  {
   "cell_type": "code",
   "execution_count": 27,
   "metadata": {},
   "outputs": [],
   "source": [
    "### function to clean municipality name / remove canton in parentheses\n",
    "import re\n",
    "def remove_kte(gde):\n",
    "    return re.sub(r\" ?\\([^)]+\\)\", \"\", gde)"
   ]
  },
  {
   "cell_type": "code",
   "execution_count": 28,
   "metadata": {},
   "outputs": [],
   "source": [
    "### function to get total number of farms by GDE_GEMEINDE_NR\n",
    "def get_total_betriebe(gde_nr):\n",
    "    return len(data[data.GDE_GEMEINDE_NR == gde_nr].BETRIEBSNUMMER_ZUFALL.unique())"
   ]
  },
  {
   "cell_type": "code",
   "execution_count": 29,
   "metadata": {},
   "outputs": [],
   "source": [
    "### function to remove decimals\n",
    "def clean_decimal(amount):\n",
    "    return (\"%.0f\" % amount)"
   ]
  },
  {
   "cell_type": "code",
   "execution_count": 30,
   "metadata": {},
   "outputs": [],
   "source": [
    "### function to reformat numbers into string and add a thousands separator\n",
    "def clean_nr(amount):\n",
    "    amount = (str(\"%.0f\" % amount))\n",
    "    return (\"{}'{}\".format(amount[:3], amount[3:]))"
   ]
  },
  {
   "cell_type": "markdown",
   "metadata": {},
   "source": [
    "##### import list of farms with more than 250k subisdies which are not cases of group farming (Betriebsgemeinschaften)\n",
    "will be used later on to filter out all entries which consist of more then 1 farm"
   ]
  },
  {
   "cell_type": "code",
   "execution_count": 75,
   "metadata": {},
   "outputs": [],
   "source": [
    "### get BETRIEBSNUMMER_ZUFALL of all single farms with more than 250k subsidies\n",
    "betriebe250k_official = pd.read_excel(\"data_input/DZ_250000_ohne_BG_mod.xlsx\", index_col=0)\n",
    "betriebe250k_official = betriebe250k_official[[\"BETRIEBSNUMMER_ZUFALL\"]]\n"
   ]
  },
  {
   "cell_type": "code",
   "execution_count": 32,
   "metadata": {},
   "outputs": [],
   "source": [
    "### get a list of all group farming entries\n",
    "betriebe250k_exclude = data[(data[\"JAHR\"] == 2017) & (data.DZ_BEITRAG_BUND > 250000) & (~data.BETRIEBSNUMMER_ZUFALL.isin(betriebe250k_official.BETRIEBSNUMMER_ZUFALL))][[\"BETRIEBSNUMMER_ZUFALL\"]]\n"
   ]
  },
  {
   "cell_type": "markdown",
   "metadata": {},
   "source": [
    "---"
   ]
  },
  {
   "cell_type": "markdown",
   "metadata": {},
   "source": [
    "#### calculate number of farms in 4 income groups (subsidies in 2017 less than 50k, 150k, 250k or more than 250k)"
   ]
  },
  {
   "cell_type": "code",
   "execution_count": 33,
   "metadata": {},
   "outputs": [],
   "source": [
    "### income group 1 (less than 50k)\n",
    "### calculate number of farms and sum and mean of corresping subisdies on municipal level\n",
    "gde_dz_to50k = data[(data[\"JAHR\"] == 2017) & (data.DZ_BEITRAG_BUND <= 50000) & (data.DZ_BEITRAG_BUND > 0)][[\"GDE_GEMEINDE_NR\", \"DZ_BEITRAG_BUND\"]].groupby([\"GDE_GEMEINDE_NR\"]).agg(['count', 'sum', 'mean'])\n",
    "gde_dz_to50k.columns = ['_'.join(t) for t in gde_dz_to50k.columns]\n",
    "gde_dz_to50k = pd.DataFrame(gde_dz_to50k.to_records())\n"
   ]
  },
  {
   "cell_type": "code",
   "execution_count": 34,
   "metadata": {},
   "outputs": [],
   "source": [
    "### income group 2 (less than 150k)\n",
    "### calculate number of farms and sum and mean of corresping subisdies on municipal level\n",
    "gde_dz_50to150k = data[(data[\"JAHR\"] == 2017) & (data.DZ_BEITRAG_BUND > 50000) & (data.DZ_BEITRAG_BUND <= 150000)][[\"GDE_GEMEINDE_NR\", \"DZ_BEITRAG_BUND\"]].groupby([\"GDE_GEMEINDE_NR\"]).agg(['count', 'sum', 'mean'])\n",
    "gde_dz_50to150k.columns = ['_'.join(t) for t in gde_dz_50to150k.columns]\n",
    "gde_dz_50to150k = pd.DataFrame(gde_dz_50to150k.to_records())\n"
   ]
  },
  {
   "cell_type": "code",
   "execution_count": 35,
   "metadata": {},
   "outputs": [],
   "source": [
    "### income group 3 (less than 250k)\n",
    "### calculate number of farms and sum and mean of corresping subisdies on municipal level\n",
    "gde_dz_150to250k = data[(data[\"JAHR\"] == 2017) & (data.DZ_BEITRAG_BUND > 150000) & (data.DZ_BEITRAG_BUND <= 250000)][[\"GDE_GEMEINDE_NR\", \"DZ_BEITRAG_BUND\"]].groupby([\"GDE_GEMEINDE_NR\"]).agg(['count', 'sum', 'mean'])\n",
    "gde_dz_150to250k.columns = ['_'.join(t) for t in gde_dz_150to250k.columns]\n",
    "gde_dz_150to250k = pd.DataFrame(gde_dz_150to250k.to_records())\n"
   ]
  },
  {
   "cell_type": "code",
   "execution_count": 36,
   "metadata": {},
   "outputs": [],
   "source": [
    "### income group 4 (more than 250k)\n",
    "### apply filter to remove group farming\n",
    "### calculate number of farms and sum and mean of corresping subisdies on municipal level\n",
    "gde_dz_from250k = data[(data[\"JAHR\"] == 2017) & data.BETRIEBSNUMMER_ZUFALL.isin(betriebe250k_official.BETRIEBSNUMMER_ZUFALL)][[\"GDE_GEMEINDE_NR\", \"DZ_BEITRAG_BUND\"]].groupby([\"GDE_GEMEINDE_NR\"]).agg(['count', 'sum', 'mean'])\n",
    "gde_dz_from250k.columns = ['_'.join(t) for t in gde_dz_from250k.columns]\n",
    "gde_dz_from250k = pd.DataFrame(gde_dz_from250k.to_records())\n"
   ]
  },
  {
   "cell_type": "code",
   "execution_count": 37,
   "metadata": {},
   "outputs": [],
   "source": [
    "### calculate number of all farms and sum and mean of corresping subisdies on municipal level\n",
    "gde_dz_all = data[(data[\"JAHR\"] == 2017) & (~data.BETRIEBSNUMMER_ZUFALL.isin(betriebe250k_exclude.BETRIEBSNUMMER_ZUFALL)) & (data.DZ_BEITRAG_BUND > 0)][[\"GDE_GEMEINDE_NR\", \"DZ_BEITRAG_BUND\"]].groupby([\"GDE_GEMEINDE_NR\"]).agg(['count', 'sum', 'mean'])\n",
    "gde_dz_all.columns = ['_'.join(t) for t in gde_dz_all.columns]\n",
    "gde_dz_all = pd.DataFrame(gde_dz_all.to_records())\n"
   ]
  },
  {
   "cell_type": "markdown",
   "metadata": {},
   "source": [
    "##### merge data into new dataframe gd_dz_groups on municipal level"
   ]
  },
  {
   "cell_type": "code",
   "execution_count": 38,
   "metadata": {},
   "outputs": [],
   "source": [
    "### collect matching name and canton and merge with income group 1\n",
    "gd_dz_groups = pd.merge(clean_gde, gde_dz_to50k[[\"GDE_GEMEINDE_NR\", \"DZ_BEITRAG_BUND_count\", \"DZ_BEITRAG_BUND_sum\", \"DZ_BEITRAG_BUND_mean\"]], on=\"GDE_GEMEINDE_NR\", how=\"left\", suffixes=('', 'to50k'))\n"
   ]
  },
  {
   "cell_type": "code",
   "execution_count": 39,
   "metadata": {},
   "outputs": [],
   "source": [
    "### merge gd_dz_groups with income group 2\n",
    "gd_dz_groups = pd.merge(gd_dz_groups, gde_dz_50to150k[[\"GDE_GEMEINDE_NR\", \"DZ_BEITRAG_BUND_count\", \"DZ_BEITRAG_BUND_sum\", \"DZ_BEITRAG_BUND_mean\"]], on=\"GDE_GEMEINDE_NR\", how=\"left\", suffixes=('', '50to150k'))\n"
   ]
  },
  {
   "cell_type": "code",
   "execution_count": 40,
   "metadata": {},
   "outputs": [],
   "source": [
    "### merge gd_dz_groups with income group 3\n",
    "gd_dz_groups = pd.merge(gd_dz_groups, gde_dz_150to250k[[\"GDE_GEMEINDE_NR\", \"DZ_BEITRAG_BUND_count\", \"DZ_BEITRAG_BUND_sum\", \"DZ_BEITRAG_BUND_mean\"]], on=\"GDE_GEMEINDE_NR\", how=\"left\", suffixes=('', '150to250k'))\n"
   ]
  },
  {
   "cell_type": "code",
   "execution_count": 41,
   "metadata": {},
   "outputs": [],
   "source": [
    "### merge gd_dz_groups with income group 4\n",
    "gd_dz_groups = pd.merge(gd_dz_groups, gde_dz_from250k[[\"GDE_GEMEINDE_NR\", \"DZ_BEITRAG_BUND_count\", \"DZ_BEITRAG_BUND_sum\", \"DZ_BEITRAG_BUND_mean\"]], on=\"GDE_GEMEINDE_NR\", how=\"left\", suffixes=('', 'from250k'))\n"
   ]
  },
  {
   "cell_type": "code",
   "execution_count": 42,
   "metadata": {},
   "outputs": [],
   "source": [
    "### merge gd_dz_groups with summary statistics on municipal level\n",
    "gd_dz_groups = pd.merge(gd_dz_groups, gde_dz_all[[\"GDE_GEMEINDE_NR\", \"DZ_BEITRAG_BUND_count\", \"DZ_BEITRAG_BUND_sum\", \"DZ_BEITRAG_BUND_mean\"]], on=\"GDE_GEMEINDE_NR\", how=\"left\", suffixes=('', 'all'))\n"
   ]
  },
  {
   "cell_type": "code",
   "execution_count": 43,
   "metadata": {},
   "outputs": [],
   "source": [
    "### rename columns\n",
    "gd_dz_groups.columns = [\"GDE_GEMEINDE_NR\", \"GDE_NAME\", \"KANTON\", \"count_to50k\", \"sum_to50k\", \"mean_to50k\", \"count_50to150k\", \"sum_50to150k\", \"mean_50to150k\", \"count_150to250k\", \"sum_150to250k\", \"mean_150to250k\", \"count_from250k\", \"sum_from250k\", \"mean_from250k\", \"count\", \"sum\", \"mean\"]\n"
   ]
  },
  {
   "cell_type": "code",
   "execution_count": 44,
   "metadata": {},
   "outputs": [],
   "source": [
    "### replace NAs with value 0\n",
    "gd_dz_groups = gd_dz_groups.fillna(0)"
   ]
  },
  {
   "cell_type": "markdown",
   "metadata": {},
   "source": [
    "##### number of farms with more than 250k in subsidies"
   ]
  },
  {
   "cell_type": "code",
   "execution_count": 45,
   "metadata": {},
   "outputs": [],
   "source": [
    "### copy information to new dataframe gd_dz_viz6\n",
    "gd_dz_viz6 = gd_dz_groups[gd_dz_groups.count_from250k > 0][[\"GDE_NAME\", \"KANTON\", \"count_from250k\", \"mean_from250k\"]]"
   ]
  },
  {
   "cell_type": "code",
   "execution_count": 46,
   "metadata": {},
   "outputs": [],
   "source": [
    "### apply remove_kte()\n",
    "gd_dz_viz6[\"GDE_CLEAN\"] = gd_dz_viz6.GDE_NAME.apply(remove_kte)"
   ]
  },
  {
   "cell_type": "code",
   "execution_count": 47,
   "metadata": {},
   "outputs": [],
   "source": [
    "### apply clean_nr()\n",
    "gd_dz_viz6['mean_clean'] = gd_dz_viz6.mean_from250k.apply(clean_nr)"
   ]
  },
  {
   "cell_type": "code",
   "execution_count": 74,
   "metadata": {},
   "outputs": [
    {
     "data": {
      "text/html": [
       "<div>\n",
       "<style scoped>\n",
       "    .dataframe tbody tr th:only-of-type {\n",
       "        vertical-align: middle;\n",
       "    }\n",
       "\n",
       "    .dataframe tbody tr th {\n",
       "        vertical-align: top;\n",
       "    }\n",
       "\n",
       "    .dataframe thead th {\n",
       "        text-align: right;\n",
       "    }\n",
       "</style>\n",
       "<table border=\"1\" class=\"dataframe\">\n",
       "  <thead>\n",
       "    <tr style=\"text-align: right;\">\n",
       "      <th></th>\n",
       "      <th>GDE_NAME</th>\n",
       "      <th>KANTON</th>\n",
       "      <th>count_from250k</th>\n",
       "      <th>mean_from250k</th>\n",
       "      <th>GDE_CLEAN</th>\n",
       "      <th>mean_clean</th>\n",
       "    </tr>\n",
       "  </thead>\n",
       "  <tbody>\n",
       "    <tr>\n",
       "      <th>1717</th>\n",
       "      <td>Les Verrières</td>\n",
       "      <td>NE</td>\n",
       "      <td>1.0</td>\n",
       "      <td>370465.15</td>\n",
       "      <td>Les Verrières</td>\n",
       "      <td>370'465</td>\n",
       "    </tr>\n",
       "    <tr>\n",
       "      <th>1731</th>\n",
       "      <td>Presinge</td>\n",
       "      <td>GE</td>\n",
       "      <td>1.0</td>\n",
       "      <td>268224.70</td>\n",
       "      <td>Presinge</td>\n",
       "      <td>268'225</td>\n",
       "    </tr>\n",
       "    <tr>\n",
       "      <th>1737</th>\n",
       "      <td>Bourrignon</td>\n",
       "      <td>JU</td>\n",
       "      <td>1.0</td>\n",
       "      <td>257569.00</td>\n",
       "      <td>Bourrignon</td>\n",
       "      <td>257'569</td>\n",
       "    </tr>\n",
       "    <tr>\n",
       "      <th>1741</th>\n",
       "      <td>Courroux</td>\n",
       "      <td>JU</td>\n",
       "      <td>1.0</td>\n",
       "      <td>275073.20</td>\n",
       "      <td>Courroux</td>\n",
       "      <td>275'073</td>\n",
       "    </tr>\n",
       "    <tr>\n",
       "      <th>1748</th>\n",
       "      <td>Pleigne</td>\n",
       "      <td>JU</td>\n",
       "      <td>1.0</td>\n",
       "      <td>327272.90</td>\n",
       "      <td>Pleigne</td>\n",
       "      <td>327'273</td>\n",
       "    </tr>\n",
       "    <tr>\n",
       "      <th>1751</th>\n",
       "      <td>Haute-Sorne</td>\n",
       "      <td>JU</td>\n",
       "      <td>1.0</td>\n",
       "      <td>308261.85</td>\n",
       "      <td>Haute-Sorne</td>\n",
       "      <td>308'262</td>\n",
       "    </tr>\n",
       "    <tr>\n",
       "      <th>1778</th>\n",
       "      <td>Fontenais</td>\n",
       "      <td>JU</td>\n",
       "      <td>1.0</td>\n",
       "      <td>263897.35</td>\n",
       "      <td>Fontenais</td>\n",
       "      <td>263'897</td>\n",
       "    </tr>\n",
       "    <tr>\n",
       "      <th>1784</th>\n",
       "      <td>Clos du Doubs</td>\n",
       "      <td>JU</td>\n",
       "      <td>1.0</td>\n",
       "      <td>284685.60</td>\n",
       "      <td>Clos du Doubs</td>\n",
       "      <td>284'686</td>\n",
       "    </tr>\n",
       "    <tr>\n",
       "      <th>1785</th>\n",
       "      <td>Haute-Ajoie</td>\n",
       "      <td>JU</td>\n",
       "      <td>1.0</td>\n",
       "      <td>251609.50</td>\n",
       "      <td>Haute-Ajoie</td>\n",
       "      <td>251'610</td>\n",
       "    </tr>\n",
       "    <tr>\n",
       "      <th>1786</th>\n",
       "      <td>La Baroche</td>\n",
       "      <td>JU</td>\n",
       "      <td>1.0</td>\n",
       "      <td>274760.65</td>\n",
       "      <td>La Baroche</td>\n",
       "      <td>274'761</td>\n",
       "    </tr>\n",
       "  </tbody>\n",
       "</table>\n",
       "</div>"
      ],
      "text/plain": [
       "           GDE_NAME KANTON  count_from250k  mean_from250k      GDE_CLEAN  \\\n",
       "1717  Les Verrières     NE             1.0      370465.15  Les Verrières   \n",
       "1731       Presinge     GE             1.0      268224.70       Presinge   \n",
       "1737     Bourrignon     JU             1.0      257569.00     Bourrignon   \n",
       "1741       Courroux     JU             1.0      275073.20       Courroux   \n",
       "1748        Pleigne     JU             1.0      327272.90        Pleigne   \n",
       "1751    Haute-Sorne     JU             1.0      308261.85    Haute-Sorne   \n",
       "1778      Fontenais     JU             1.0      263897.35      Fontenais   \n",
       "1784  Clos du Doubs     JU             1.0      284685.60  Clos du Doubs   \n",
       "1785    Haute-Ajoie     JU             1.0      251609.50    Haute-Ajoie   \n",
       "1786     La Baroche     JU             1.0      274760.65     La Baroche   \n",
       "\n",
       "     mean_clean  \n",
       "1717    370'465  \n",
       "1731    268'225  \n",
       "1737    257'569  \n",
       "1741    275'073  \n",
       "1748    327'273  \n",
       "1751    308'262  \n",
       "1778    263'897  \n",
       "1784    284'686  \n",
       "1785    251'610  \n",
       "1786    274'761  "
      ]
     },
     "execution_count": 74,
     "metadata": {},
     "output_type": "execute_result"
    }
   ],
   "source": [
    "### Look at df\n",
    "gd_dz_viz6.tail(10)"
   ]
  },
  {
   "cell_type": "code",
   "execution_count": 51,
   "metadata": {},
   "outputs": [],
   "source": [
    "### Export data to csv for visualization\n",
    "gd_dz_viz6.to_csv(\"data_output/n6_final.csv\")"
   ]
  },
  {
   "cell_type": "markdown",
   "metadata": {},
   "source": [
    "##### average subsidies by municipality"
   ]
  },
  {
   "cell_type": "code",
   "execution_count": 65,
   "metadata": {
    "scrolled": false
   },
   "outputs": [],
   "source": [
    "### Create new dataframe\n",
    "gd_dz_viz5 = gd_dz_groups[[\"GDE_NAME\", \"KANTON\", \"mean\", \"count_to50k\", \"count_50to150k\", \"count_150to250k\", \"count_from250k\"]]\n"
   ]
  },
  {
   "cell_type": "code",
   "execution_count": 69,
   "metadata": {},
   "outputs": [],
   "source": [
    "### apply remove_kte()\n",
    "gd_dz_viz5.loc[:,\"GDE_CLEAN\"] = gd_dz_viz5.GDE_NAME.apply(remove_kte)"
   ]
  },
  {
   "cell_type": "code",
   "execution_count": 68,
   "metadata": {
    "scrolled": false
   },
   "outputs": [],
   "source": [
    "### apply clean_decimal()\n",
    "gd_dz_viz5.loc[:,'mean_clean'] = gd_dz_viz5[\"mean\"].apply(clean_decimal)"
   ]
  },
  {
   "cell_type": "code",
   "execution_count": 71,
   "metadata": {},
   "outputs": [
    {
     "data": {
      "text/html": [
       "<div>\n",
       "<style scoped>\n",
       "    .dataframe tbody tr th:only-of-type {\n",
       "        vertical-align: middle;\n",
       "    }\n",
       "\n",
       "    .dataframe tbody tr th {\n",
       "        vertical-align: top;\n",
       "    }\n",
       "\n",
       "    .dataframe thead th {\n",
       "        text-align: right;\n",
       "    }\n",
       "</style>\n",
       "<table border=\"1\" class=\"dataframe\">\n",
       "  <thead>\n",
       "    <tr style=\"text-align: right;\">\n",
       "      <th></th>\n",
       "      <th>GDE_NAME</th>\n",
       "      <th>KANTON</th>\n",
       "      <th>mean</th>\n",
       "      <th>count_to50k</th>\n",
       "      <th>count_50to150k</th>\n",
       "      <th>count_150to250k</th>\n",
       "      <th>count_from250k</th>\n",
       "      <th>GDE_CLEAN</th>\n",
       "      <th>mean_clean</th>\n",
       "    </tr>\n",
       "  </thead>\n",
       "  <tbody>\n",
       "    <tr>\n",
       "      <th>0</th>\n",
       "      <td>Aeugst am Albis</td>\n",
       "      <td>ZH</td>\n",
       "      <td>57465.888462</td>\n",
       "      <td>8.0</td>\n",
       "      <td>4.0</td>\n",
       "      <td>1.0</td>\n",
       "      <td>0.0</td>\n",
       "      <td>Aeugst am Albis</td>\n",
       "      <td>57466</td>\n",
       "    </tr>\n",
       "    <tr>\n",
       "      <th>1</th>\n",
       "      <td>Affoltern am Albis</td>\n",
       "      <td>ZH</td>\n",
       "      <td>46837.477500</td>\n",
       "      <td>13.0</td>\n",
       "      <td>7.0</td>\n",
       "      <td>0.0</td>\n",
       "      <td>0.0</td>\n",
       "      <td>Affoltern am Albis</td>\n",
       "      <td>46837</td>\n",
       "    </tr>\n",
       "    <tr>\n",
       "      <th>2</th>\n",
       "      <td>Bonstetten</td>\n",
       "      <td>ZH</td>\n",
       "      <td>53752.631818</td>\n",
       "      <td>6.0</td>\n",
       "      <td>5.0</td>\n",
       "      <td>0.0</td>\n",
       "      <td>0.0</td>\n",
       "      <td>Bonstetten</td>\n",
       "      <td>53753</td>\n",
       "    </tr>\n",
       "    <tr>\n",
       "      <th>3</th>\n",
       "      <td>Hausen am Albis</td>\n",
       "      <td>ZH</td>\n",
       "      <td>64002.022581</td>\n",
       "      <td>13.0</td>\n",
       "      <td>16.0</td>\n",
       "      <td>2.0</td>\n",
       "      <td>0.0</td>\n",
       "      <td>Hausen am Albis</td>\n",
       "      <td>64002</td>\n",
       "    </tr>\n",
       "    <tr>\n",
       "      <th>4</th>\n",
       "      <td>Hedingen</td>\n",
       "      <td>ZH</td>\n",
       "      <td>54367.745000</td>\n",
       "      <td>4.0</td>\n",
       "      <td>6.0</td>\n",
       "      <td>0.0</td>\n",
       "      <td>0.0</td>\n",
       "      <td>Hedingen</td>\n",
       "      <td>54368</td>\n",
       "    </tr>\n",
       "    <tr>\n",
       "      <th>5</th>\n",
       "      <td>Kappel am Albis</td>\n",
       "      <td>ZH</td>\n",
       "      <td>60305.771053</td>\n",
       "      <td>8.0</td>\n",
       "      <td>11.0</td>\n",
       "      <td>0.0</td>\n",
       "      <td>0.0</td>\n",
       "      <td>Kappel am Albis</td>\n",
       "      <td>60306</td>\n",
       "    </tr>\n",
       "    <tr>\n",
       "      <th>6</th>\n",
       "      <td>Knonau</td>\n",
       "      <td>ZH</td>\n",
       "      <td>45068.078571</td>\n",
       "      <td>12.0</td>\n",
       "      <td>9.0</td>\n",
       "      <td>0.0</td>\n",
       "      <td>0.0</td>\n",
       "      <td>Knonau</td>\n",
       "      <td>45068</td>\n",
       "    </tr>\n",
       "    <tr>\n",
       "      <th>7</th>\n",
       "      <td>Maschwanden</td>\n",
       "      <td>ZH</td>\n",
       "      <td>66129.656250</td>\n",
       "      <td>8.0</td>\n",
       "      <td>7.0</td>\n",
       "      <td>1.0</td>\n",
       "      <td>0.0</td>\n",
       "      <td>Maschwanden</td>\n",
       "      <td>66130</td>\n",
       "    </tr>\n",
       "    <tr>\n",
       "      <th>8</th>\n",
       "      <td>Mettmenstetten</td>\n",
       "      <td>ZH</td>\n",
       "      <td>46601.679730</td>\n",
       "      <td>26.0</td>\n",
       "      <td>11.0</td>\n",
       "      <td>0.0</td>\n",
       "      <td>0.0</td>\n",
       "      <td>Mettmenstetten</td>\n",
       "      <td>46602</td>\n",
       "    </tr>\n",
       "    <tr>\n",
       "      <th>9</th>\n",
       "      <td>Obfelden</td>\n",
       "      <td>ZH</td>\n",
       "      <td>47537.312500</td>\n",
       "      <td>11.0</td>\n",
       "      <td>5.0</td>\n",
       "      <td>0.0</td>\n",
       "      <td>0.0</td>\n",
       "      <td>Obfelden</td>\n",
       "      <td>47537</td>\n",
       "    </tr>\n",
       "  </tbody>\n",
       "</table>\n",
       "</div>"
      ],
      "text/plain": [
       "             GDE_NAME KANTON          mean  count_to50k  count_50to150k  \\\n",
       "0     Aeugst am Albis     ZH  57465.888462          8.0             4.0   \n",
       "1  Affoltern am Albis     ZH  46837.477500         13.0             7.0   \n",
       "2          Bonstetten     ZH  53752.631818          6.0             5.0   \n",
       "3     Hausen am Albis     ZH  64002.022581         13.0            16.0   \n",
       "4            Hedingen     ZH  54367.745000          4.0             6.0   \n",
       "5     Kappel am Albis     ZH  60305.771053          8.0            11.0   \n",
       "6              Knonau     ZH  45068.078571         12.0             9.0   \n",
       "7         Maschwanden     ZH  66129.656250          8.0             7.0   \n",
       "8      Mettmenstetten     ZH  46601.679730         26.0            11.0   \n",
       "9            Obfelden     ZH  47537.312500         11.0             5.0   \n",
       "\n",
       "   count_150to250k  count_from250k           GDE_CLEAN mean_clean  \n",
       "0              1.0             0.0     Aeugst am Albis      57466  \n",
       "1              0.0             0.0  Affoltern am Albis      46837  \n",
       "2              0.0             0.0          Bonstetten      53753  \n",
       "3              2.0             0.0     Hausen am Albis      64002  \n",
       "4              0.0             0.0            Hedingen      54368  \n",
       "5              0.0             0.0     Kappel am Albis      60306  \n",
       "6              0.0             0.0              Knonau      45068  \n",
       "7              1.0             0.0         Maschwanden      66130  \n",
       "8              0.0             0.0      Mettmenstetten      46602  \n",
       "9              0.0             0.0            Obfelden      47537  "
      ]
     },
     "execution_count": 71,
     "metadata": {},
     "output_type": "execute_result"
    }
   ],
   "source": [
    "### Look at df\n",
    "gd_dz_viz5.head(10)"
   ]
  },
  {
   "cell_type": "code",
   "execution_count": 73,
   "metadata": {},
   "outputs": [],
   "source": [
    "### Export data to csv for visualization\n",
    "gd_dz_viz5.to_csv(\"data_output/n5_final.csv\")"
   ]
  }
 ],
 "metadata": {
  "kernelspec": {
   "display_name": "Python 3",
   "language": "python",
   "name": "python3"
  },
  "language_info": {
   "codemirror_mode": {
    "name": "ipython",
    "version": 3
   },
   "file_extension": ".py",
   "mimetype": "text/x-python",
   "name": "python",
   "nbconvert_exporter": "python",
   "pygments_lexer": "ipython3",
   "version": "3.7.2"
  }
 },
 "nbformat": 4,
 "nbformat_minor": 2
}
